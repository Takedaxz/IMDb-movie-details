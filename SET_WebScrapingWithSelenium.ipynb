{
 "cells": [
  {
   "cell_type": "code",
   "execution_count": 6,
   "metadata": {},
   "outputs": [
    {
     "name": "stdout",
     "output_type": "stream",
     "text": [
      "11 มิ.ย. 2567 09:12:50\n"
     ]
    }
   ],
   "source": [
    "from selenium import webdriver\n",
    "from selenium.webdriver.common.by import By\n",
    "\n",
    "driver = webdriver.Chrome()\n",
    "\n",
    "driver.get(\"https://www.set.or.th/th/market/product/stock/quote/BDMS/price\")\n",
    "price = driver.find_element(By.XPATH, '//*[@id=\"__layout\"]/div/div[2]/div[1]/div[5]/div[2]/div[2]/div[3]/div[2]').text\n",
    "fullTextTime = driver.find_element(By.XPATH, '//*[@id=\"stock-quote-tab-pane-1\"]/div/div[1]/div/div[2]/div[1]/div/div[1]/div[2]').text\n",
    "\n",
    "nowTime = fullTextTime[13:]\n",
    "print(nowTime)\n"
   ]
  },
  {
   "cell_type": "code",
   "execution_count": null,
   "metadata": {},
   "outputs": [],
   "source": []
  }
 ],
 "metadata": {
  "kernelspec": {
   "display_name": "base",
   "language": "python",
   "name": "python3"
  },
  "language_info": {
   "codemirror_mode": {
    "name": "ipython",
    "version": 3
   },
   "file_extension": ".py",
   "mimetype": "text/x-python",
   "name": "python",
   "nbconvert_exporter": "python",
   "pygments_lexer": "ipython3",
   "version": "3.11.5"
  }
 },
 "nbformat": 4,
 "nbformat_minor": 2
}
